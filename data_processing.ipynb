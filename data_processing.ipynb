{
  "nbformat": 4,
  "nbformat_minor": 0,
  "metadata": {
    "colab": {
      "name": "224.ipynb",
      "provenance": [],
      "collapsed_sections": []
    },
    "kernelspec": {
      "name": "python3",
      "display_name": "Python 3"
    }
  },
  "cells": [
    {
      "cell_type": "code",
      "metadata": {
        "id": "BGjJro5-IN3D",
        "colab_type": "code",
        "outputId": "4ae092e4-ec9d-4817-d4dc-60bda20187ce",
        "colab": {
          "base_uri": "https://localhost:8080/",
          "height": 122
        }
      },
      "source": [
        "pip install snap-stanford"
      ],
      "execution_count": 0,
      "outputs": [
        {
          "output_type": "stream",
          "text": [
            "Collecting snap-stanford\n",
            "\u001b[?25l  Downloading https://files.pythonhosted.org/packages/0d/18/4694293d1d58ee92a1f85fa09b4b1348b849d1f35470cf296b238fa20a8d/snap_stanford-5.0.0-cp36-cp36m-manylinux1_x86_64.whl (11.2MB)\n",
            "\u001b[K     |████████████████████████████████| 11.2MB 2.6MB/s \n",
            "\u001b[?25hInstalling collected packages: snap-stanford\n",
            "Successfully installed snap-stanford-5.0.0\n"
          ],
          "name": "stdout"
        }
      ]
    },
    {
      "cell_type": "code",
      "metadata": {
        "id": "6iOxcCFuIeco",
        "colab_type": "code",
        "outputId": "4ce0d394-d392-40aa-8c26-53421c5e5fdb",
        "colab": {
          "base_uri": "https://localhost:8080/",
          "height": 122
        }
      },
      "source": [
        "from google.colab import drive\n",
        "drive.mount('/content/drive')"
      ],
      "execution_count": 0,
      "outputs": [
        {
          "output_type": "stream",
          "text": [
            "Go to this URL in a browser: https://accounts.google.com/o/oauth2/auth?client_id=947318989803-6bn6qk8qdgf4n4g3pfee6491hc0brc4i.apps.googleusercontent.com&redirect_uri=urn%3aietf%3awg%3aoauth%3a2.0%3aoob&response_type=code&scope=email%20https%3a%2f%2fwww.googleapis.com%2fauth%2fdocs.test%20https%3a%2f%2fwww.googleapis.com%2fauth%2fdrive%20https%3a%2f%2fwww.googleapis.com%2fauth%2fdrive.photos.readonly%20https%3a%2f%2fwww.googleapis.com%2fauth%2fpeopleapi.readonly\n",
            "\n",
            "Enter your authorization code:\n",
            "··········\n",
            "Mounted at /content/drive\n"
          ],
          "name": "stdout"
        }
      ]
    },
    {
      "cell_type": "code",
      "metadata": {
        "id": "22xju41GH9ZC",
        "colab_type": "code",
        "colab": {}
      },
      "source": [
        "import snap\n",
        "import pandas as pd\n",
        "\n",
        " # prefix for Sophia: My Drive; prefix for Nidhi & Flora: Shared with me\n",
        "\n",
        "def read_data():\n",
        "\tfilename = \"drive/My Drive/CS224W/Colab Notebooks/credits.csv\"\n",
        "\tdf = pd.read_csv(filename)\n",
        "\n",
        "\tid_counter = 0\n",
        "\tname_2_id = {}\n",
        "\tf_edges = open('drive/My Drive/CS224W/Colab Notebooks/edges.txt', 'w')\n",
        "\n",
        "\tG = snap.TUNGraph.New()\n",
        "\n",
        "\tfor idx, row in df.iterrows():\n",
        "\t\tmovie_cast = [] # id's of actors that worked on movie together\n",
        "\t\tcast_blobs = row['cast'].split(\"}\")\n",
        "\t\tfor actor in cast_blobs:\n",
        "\t\t\tstart_ind = actor.find(\"\\'name\\':\")\n",
        "\t\t\tname = actor[start_ind:].split(\",\")[0][9:-1]\n",
        "\t\t\tname = name.strip()\n",
        "\n",
        "\t\t\tif name != \"\" and name not in name_2_id:\n",
        "\t\t\t\tname_2_id[name] = id_counter\n",
        "\t\t\t\tid_counter += 1\n",
        "\t\t\t\n",
        "\t\t\tif name != \"\":\n",
        "\t\t\t\tmovie_cast.append(name_2_id[name])\n",
        "\t\t\n",
        "\t\tfor id_ in movie_cast:\n",
        "\t\t\tif not G.IsNode(id_):\n",
        "\t\t\t\tG.AddNode(id_)\n",
        "\n",
        "\t\tfor id_1 in movie_cast:\n",
        "\t\t\tfor id_2 in movie_cast:\n",
        "\t\t\t\tif id_1 != id_2 and not G.IsEdge(id_1, id_2):\n",
        "\t\t\t\t\tG.AddEdge(id_1, id_2)\n",
        "\t\t\t\t\tf_edges.write(str(id_1) + ' ' + str(id_2) + '\\n')\n",
        "\t\n",
        "\treturn name_2_id\n",
        "\t\n",
        "\tprint(G.GetEdges()) # 6183763\n",
        "\tprint(G.GetNodes()) # 202747; same as len(name_2_id)\n",
        "\n",
        "\tf_actors = open('drive/My Drive/CS224W/Colab Notebooks/actor_name_to_id.txt', 'w')\n",
        "\tfor key,val in name_2_id.items():\n",
        "\t\tf_actors.write(key + ', ' + str(val) + '\\n')\n",
        "\n",
        "actor_name_2_id = read_data()"
      ],
      "execution_count": 0,
      "outputs": []
    },
    {
      "cell_type": "code",
      "metadata": {
        "id": "ArSvzXsPg0IV",
        "colab_type": "code",
        "outputId": "a1052926-08b5-4d53-8be7-af9f0a7e9979",
        "colab": {
          "base_uri": "https://localhost:8080/",
          "height": 238
        }
      },
      "source": [
        "ids = [179, 183, 2496, 2525, 2530, 2511, 2524, 17341, 66647, 71523, 109179, 184005, 154303]\n",
        "for name, node_id in actor_name_2_id.items():    # for name, age in dictionary.iteritems():  (for Python 2.x)\n",
        "    if node_id in ids:\n",
        "        print(name, node_id)\n"
      ],
      "execution_count": 0,
      "outputs": [
        {
          "output_type": "stream",
          "text": [
            "Anthony Mondal 179\n",
            "Michael Cline 183\n",
            "Dina Meyer 2496\n",
            "Warren Sulatycky 2511\n",
            "Coyote Shivers 2524\n",
            "Lynne Adams 2525\n",
            "Glenn Bang 2530\n",
            "Javon Barnwell 17341\n",
            "Sonny Marinelli 66647\n",
            "Beverly Murray 71523\n",
            "Bronwen Booth 109179\n",
            "Denis Sandler 154303\n",
            "Antoni Petorozliev 184005\n"
          ],
          "name": "stdout"
        }
      ]
    },
    {
      "cell_type": "code",
      "metadata": {
        "id": "SAt3qEs9ZrpG",
        "colab_type": "code",
        "outputId": "72eff771-8bb2-49e3-bc09-37d7cb27bbf1",
        "colab": {
          "base_uri": "https://localhost:8080/",
          "height": 334
        }
      },
      "source": [
        "def create_movie_list():\n",
        "  filename = \"drive/My Drive/CS224W/Colab Notebooks/credits.csv\"\n",
        "  #filename = \"drive/My Drive/Colab Notebooks/credits.csv\"\n",
        "  df = pd.read_csv(filename)\n",
        "  name_2_movies = {}\n",
        "  \n",
        "  for idx, row in df.iterrows():\n",
        "    cast_blobs = row['cast'].split(\"}\")\n",
        "    movie_id = row['id']\n",
        "    \n",
        "    for actor in cast_blobs:\n",
        "      start_ind = actor.find(\"\\'name\\':\")\n",
        "      name = actor[start_ind:].split(\",\")[0][9:-1]\n",
        "      \n",
        "      if name == \"\":\n",
        "        continue\n",
        "      if name in name_2_movies:\n",
        "        movies_list_so_far = name_2_movies[name]\n",
        "        movies_list_so_far.append(movie_id)\n",
        "        name_2_movies[name] = movies_list_so_far\n",
        "      else:\n",
        "        name_2_movies[name] = [movie_id]\n",
        "\n",
        "  return name_2_movies\n",
        "name_2_movies = create_movie_list()\n",
        "# print(len(name_2_movies)) # 202747 actors (nodes)"
      ],
      "execution_count": 0,
      "outputs": [
        {
          "output_type": "error",
          "ename": "NameError",
          "evalue": "ignored",
          "traceback": [
            "\u001b[0;31m---------------------------------------------------------------------------\u001b[0m",
            "\u001b[0;31mNameError\u001b[0m                                 Traceback (most recent call last)",
            "\u001b[0;32m<ipython-input-3-0a307f263a2f>\u001b[0m in \u001b[0;36m<module>\u001b[0;34m()\u001b[0m\n\u001b[1;32m     23\u001b[0m \u001b[0;34m\u001b[0m\u001b[0m\n\u001b[1;32m     24\u001b[0m   \u001b[0;32mreturn\u001b[0m \u001b[0mname_2_movies\u001b[0m\u001b[0;34m\u001b[0m\u001b[0;34m\u001b[0m\u001b[0m\n\u001b[0;32m---> 25\u001b[0;31m \u001b[0mname_2_movies\u001b[0m \u001b[0;34m=\u001b[0m \u001b[0mcreate_movie_list\u001b[0m\u001b[0;34m(\u001b[0m\u001b[0;34m)\u001b[0m\u001b[0;34m\u001b[0m\u001b[0;34m\u001b[0m\u001b[0m\n\u001b[0m\u001b[1;32m     26\u001b[0m \u001b[0;31m# print(len(name_2_movies)) # 202747 actors (nodes)\u001b[0m\u001b[0;34m\u001b[0m\u001b[0;34m\u001b[0m\u001b[0;34m\u001b[0m\u001b[0m\n",
            "\u001b[0;32m<ipython-input-3-0a307f263a2f>\u001b[0m in \u001b[0;36mcreate_movie_list\u001b[0;34m()\u001b[0m\n\u001b[1;32m      2\u001b[0m   \u001b[0mfilename\u001b[0m \u001b[0;34m=\u001b[0m \u001b[0;34m\"drive/My Drive/CS224W/Colab Notebooks/credits.csv\"\u001b[0m\u001b[0;34m\u001b[0m\u001b[0;34m\u001b[0m\u001b[0m\n\u001b[1;32m      3\u001b[0m   \u001b[0;31m#filename = \"drive/My Drive/Colab Notebooks/credits.csv\"\u001b[0m\u001b[0;34m\u001b[0m\u001b[0;34m\u001b[0m\u001b[0;34m\u001b[0m\u001b[0m\n\u001b[0;32m----> 4\u001b[0;31m   \u001b[0mdf\u001b[0m \u001b[0;34m=\u001b[0m \u001b[0mpd\u001b[0m\u001b[0;34m.\u001b[0m\u001b[0mread_csv\u001b[0m\u001b[0;34m(\u001b[0m\u001b[0mfilename\u001b[0m\u001b[0;34m)\u001b[0m\u001b[0;34m\u001b[0m\u001b[0;34m\u001b[0m\u001b[0m\n\u001b[0m\u001b[1;32m      5\u001b[0m   \u001b[0mname_2_movies\u001b[0m \u001b[0;34m=\u001b[0m \u001b[0;34m{\u001b[0m\u001b[0;34m}\u001b[0m\u001b[0;34m\u001b[0m\u001b[0;34m\u001b[0m\u001b[0m\n\u001b[1;32m      6\u001b[0m \u001b[0;34m\u001b[0m\u001b[0m\n",
            "\u001b[0;31mNameError\u001b[0m: name 'pd' is not defined"
          ]
        }
      ]
    },
    {
      "cell_type": "code",
      "metadata": {
        "id": "bsnNuO4jZyce",
        "colab_type": "code",
        "outputId": "96bb07b0-38e7-4f85-f237-f5797b0f402c",
        "colab": {
          "base_uri": "https://localhost:8080/",
          "height": 89
        }
      },
      "source": [
        "def create_genre_list(name_2_movies):\n",
        "  #filename = \"drive/My Drive/CS224W/Colab Notebooks/movies_metadata.csv\"\n",
        "  filename = \"drive/My Drive/Colab Notebooks/movies_metadata.csv\"\n",
        "  df = pd.read_csv(filename)\n",
        "\n",
        "  genre_2_id = {} # map of each genre to unique, arbitrary id\n",
        "  id_ctr = 0\n",
        "  # create map of movie id to genre list\n",
        "  movie_2_genres = {}\n",
        "  for idx, row in df.iterrows():\n",
        "    movie_id = row['id']\n",
        "\n",
        "    genres_for_movie = []\n",
        "    genre_blob = row['genres'].split(\"}\")\n",
        "\n",
        "    for genre in genre_blob:\n",
        "      start_ind = genre.find(\"\\'name\\':\")\n",
        "      genre_name = genre[start_ind:].split(\",\")[0][9:-1]\n",
        "\n",
        "      if genre_name != \"\":\n",
        "        genres_for_movie.append(genre_name)\n",
        "\n",
        "        if genre_name not in genre_2_id:\n",
        "          genre_2_id[genre_name] = id_ctr\n",
        "          id_ctr += 1\n",
        "\n",
        "    movie_2_genres[movie_id] = genres_for_movie\n",
        "  return movie_2_genres\n",
        "\n",
        "movie_2_genres = create_genre_list(name_2_movies)"
      ],
      "execution_count": 0,
      "outputs": [
        {
          "output_type": "stream",
          "text": [
            "/usr/local/lib/python3.6/dist-packages/IPython/core/interactiveshell.py:2822: DtypeWarning: Columns (10) have mixed types. Specify dtype option on import or set low_memory=False.\n",
            "  if self.run_code(code, result):\n"
          ],
          "name": "stderr"
        },
        {
          "output_type": "stream",
          "text": [
            "{'Animation': 0, 'Comedy': 1, 'Family': 2, 'Adventure': 3, 'Fantasy': 4, 'Romance': 5, 'Drama': 6, 'Action': 7, 'Crime': 8, 'Thriller': 9, 'Horror': 10, 'History': 11, 'Science Fiction': 12, 'Mystery': 13, 'War': 14, 'Foreign': 15, 'Music': 16, 'Documentary': 17, 'Western': 18, 'TV Movie': 19, 'Carousel Productions': 20, 'Vision View Entertainment': 21, 'Telescene Film Group Productions': 22, 'Aniplex': 23, 'GoHands': 24, 'BROSTA TV': 25, 'Mardock Scramble Production Committee': 26, 'Sentai Filmworks': 27, 'Odyssey Media': 28, 'Pulser Productions': 29, 'Rogue State': 30, 'The Cartel': 31}\n"
          ],
          "name": "stdout"
        }
      ]
    },
    {
      "cell_type": "code",
      "metadata": {
        "id": "TMMlcwEdISrm",
        "colab_type": "code",
        "colab": {}
      },
      "source": [
        "def create_actor_genres(movie_2_genres):\n",
        "  name_2_genres_map = {}\n",
        "  for actor, movies_list in name_2_movies.items():\n",
        "    genres_map_for_the_actor = {}\n",
        "    for movie in movies_list:\n",
        "      movie = str(movie)\n",
        "      list_genres = movie_2_genres[movie]\n",
        "      for genre in list_genres:\n",
        "        if genre not in genres_map_for_the_actor:\n",
        "          genres_map_for_the_actor[genre] = 1\n",
        "        else:\n",
        "          genres_map_for_the_actor[genre] += 1\n",
        "    name_2_genres_map[actor] = genres_map_for_the_actor\n",
        "\n",
        "  return name_2_genres_map\n",
        "\n",
        "name_2_genres = create_actor_genres(movie_2_genres)"
      ],
      "execution_count": 0,
      "outputs": []
    },
    {
      "cell_type": "code",
      "metadata": {
        "id": "5niHYsN1aZcR",
        "colab_type": "code",
        "outputId": "7889541b-66fc-4f54-c51a-aacd59ae9be2",
        "colab": {
          "base_uri": "https://localhost:8080/",
          "height": 102
        }
      },
      "source": [
        "def get_top_genre_per_actor(name_2_genres):\n",
        "  actor_2_top_genre = {}\n",
        "  other_actors = []\n",
        "  for actor, genre_map in name_2_genres.items():\n",
        "    actor = actor.strip()\n",
        "    top_genre = \"\"\n",
        "    max_val = 0\n",
        "\n",
        "    for genre, count in genre_map.items():\n",
        "      if count > max_val:\n",
        "        max_val = count\n",
        "        top_genre = genre\n",
        "\n",
        "    if top_genre != \"\":\n",
        "      actor_2_top_genre[actor] = top_genre\n",
        "    else:\n",
        "      other_actors.append(actor)\n",
        "  return actor_2_top_genre, other_actors\n",
        "\n",
        "actor_2_top_genre, other_actors = get_top_genre_per_actor(name_2_genres)\n",
        "# print(len(actor_2_top_genre)) # 199710 actors (nodes)\n",
        "# print(actor_2_top_genre['Tom Hanks'])\n",
        "unique_top_genres = set()\n",
        "for actor, top_genre in actor_2_top_genre.items():\n",
        "  unique_top_genres.add(top_genre)\n",
        "print(unique_top_genres)\n",
        "print(len(unique_top_genres))\n",
        "\n",
        "def new_genre_id_map(unique_top_genres):\n",
        "  id_ctr = 0\n",
        "  top_genre_2_id = {}\n",
        "  for genre in unique_top_genres:\n",
        "    top_genre_2_id[genre] = id_ctr\n",
        "    id_ctr += 1\n",
        "  top_genre_2_id[\"MISC\"] = id_ctr\n",
        "  return top_genre_2_id\n",
        "\n",
        "top_genre_2_id = new_genre_id_map(unique_top_genres)\n",
        "print(top_genre_2_id)"
      ],
      "execution_count": 0,
      "outputs": [
        {
          "output_type": "stream",
          "text": [
            "Comedy\n",
            "{'Foreign', 'Science Fiction', 'Drama', 'TV Movie', 'Animation', 'Crime', 'Comedy', 'Documentary', 'Adventure', 'Western', 'Thriller', 'Action', 'Horror', 'War', 'Romance', 'Mystery', 'Fantasy', 'Music', 'Family', 'History'}\n",
            "20\n",
            "{'Foreign': 0, 'Science Fiction': 1, 'Drama': 2, 'TV Movie': 3, 'Animation': 4, 'Crime': 5, 'Comedy': 6, 'Documentary': 7, 'Adventure': 8, 'Western': 9, 'Thriller': 10, 'Action': 11, 'Horror': 12, 'War': 13, 'Romance': 14, 'Mystery': 15, 'Fantasy': 16, 'Music': 17, 'Family': 18, 'History': 19, 'MISC': 20}\n"
          ],
          "name": "stdout"
        }
      ]
    },
    {
      "cell_type": "code",
      "metadata": {
        "id": "7h2QwD0ObNc5",
        "colab_type": "code",
        "outputId": "5dca18aa-bc58-4611-c119-2901f0dfc5de",
        "colab": {
          "base_uri": "https://localhost:8080/",
          "height": 33
        }
      },
      "source": [
        "def get_actor_top_genre_id(actor_2_top_genre, top_genre_2_id):\n",
        "  actor_2_genre_id = {}\n",
        "  for actor, top_genre in actor_2_top_genre.items():\n",
        "    actor_2_genre_id[actor] = top_genre_2_id[top_genre]\n",
        "  return actor_2_genre_id\n",
        "\n",
        "actor_2_genre_id = get_actor_top_genre_id(actor_2_top_genre, top_genre_2_id)\n",
        "print(len(actor_2_genre_id))"
      ],
      "execution_count": 0,
      "outputs": [
        {
          "output_type": "stream",
          "text": [
            "199687\n"
          ],
          "name": "stdout"
        }
      ]
    },
    {
      "cell_type": "code",
      "metadata": {
        "id": "jZEVkR8Io5Si",
        "colab_type": "code",
        "outputId": "37f16fd0-cfb7-4ec7-c6eb-4d49b9228741",
        "colab": {
          "base_uri": "https://localhost:8080/",
          "height": 118
        }
      },
      "source": [
        "def get_node_id_top_genre_id(actor_2_genre_id):\n",
        "  filename = \"drive/My Drive/Colab Notebooks/actor_name_to_id.txt\"\n",
        "  #filename = \"drive/My Drive/CS224W/Colab Notebooks/actor_name_to_id.txt\"\n",
        "  df = pd.read_csv(filename, sep=\", \", header=None)\n",
        "  df.columns = [\"name\", 'id']\n",
        "  df.drop_duplicates(subset =\"name\", keep = False, inplace = True)\n",
        "\n",
        "  print(df.shape)\n",
        "  print(len(actor_2_genre_id))\n",
        "\n",
        "  node_id_2_genre_id = {}\n",
        "\n",
        "  for idx, row in df.iterrows():\n",
        "    name = row[0]\n",
        "    node_id = row[1]\n",
        "    \n",
        "    if name in actor_2_genre_id:\n",
        "      genre_id = actor_2_genre_id[name]\n",
        "      node_id_2_genre_id[node_id] = genre_id\n",
        "    else:\n",
        "      node_id_2_genre_id[node_id] = len(top_genre_2_id) - 1\n",
        "\n",
        "  return node_id_2_genre_id\n",
        "\n",
        "node_id_2_genre_id = get_node_id_top_genre_id(actor_2_genre_id)\n",
        "print(len(node_id_2_genre_id))"
      ],
      "execution_count": 0,
      "outputs": [
        {
          "output_type": "stream",
          "text": [
            "/usr/local/lib/python3.6/dist-packages/ipykernel_launcher.py:4: ParserWarning: Falling back to the 'python' engine because the 'c' engine does not support regex separators (separators > 1 char and different from '\\s+' are interpreted as regex); you can avoid this warning by specifying engine='python'.\n",
            "  after removing the cwd from sys.path.\n"
          ],
          "name": "stderr"
        },
        {
          "output_type": "stream",
          "text": [
            "(202721, 2)\n",
            "199687\n",
            "202721\n"
          ],
          "name": "stdout"
        }
      ]
    },
    {
      "cell_type": "code",
      "metadata": {
        "id": "92TIVoLkpzeq",
        "colab_type": "code",
        "colab": {}
      },
      "source": [
        "# def make_new_edge_list(node_id_2_genre_id, actor_name_2_id): # recreate edges.txt file (just including nodes which have a top genre)\n",
        "\n",
        "#   f_edges_old = open('drive/My Drive/Colab Notebooks/edges.txt', 'r')\n",
        "#   f_edges_new = open('drive/My Drive/Colab Notebooks/new_edges.txt', 'w')\n",
        "\n",
        "#   for line in f_edges_old:\n",
        "#     ids = line.split(\" \")\n",
        "#     id_1 = ids[0]\n",
        "#     id_2 = ids[1]\n",
        "#     if int(id_1) in node_id_2_genre_id and int(id_2) in node_id_2_genre_id:\n",
        "#       f_edges_new.write(id_1 + ' ' + id_2 + '\\n')\n",
        "\n",
        "# make_new_edge_list(node_id_2_genre_id, actor_name_2_id) # 6156707 edges now"
      ],
      "execution_count": 0,
      "outputs": []
    },
    {
      "cell_type": "code",
      "metadata": {
        "id": "X1qp1PARU0oU",
        "colab_type": "code",
        "colab": {}
      },
      "source": [
        "def get_true_labels(node_id_2_genre_id):\n",
        "  f_labels = open('drive/My Drive/Colab Notebooks/labels_final.txt', 'w')\n",
        "\n",
        "  for i in range(len(node_id_2_genre_id)):\n",
        "    f_labels.write(str(node_id_2_genre_id[i]) + '\\n')\n",
        "\n",
        "get_true_labels(node_id_2_genre_id)"
      ],
      "execution_count": 0,
      "outputs": []
    },
    {
      "cell_type": "code",
      "metadata": {
        "id": "ZILaAqkZXXXr",
        "colab_type": "code",
        "colab": {}
      },
      "source": [
        "# f_labels = open('drive/My Drive/Colab Notebooks/labels_final.txt', 'r')\n",
        "\n",
        "# for line in f_labels:\n",
        "#   if int(line) > 20:\n",
        "#     print(\"ISSUE\")"
      ],
      "execution_count": 0,
      "outputs": []
    },
    {
      "cell_type": "code",
      "metadata": {
        "id": "x3A9PG6TcgKV",
        "colab_type": "code",
        "colab": {}
      },
      "source": [
        ""
      ],
      "execution_count": 0,
      "outputs": []
    }
  ]
}